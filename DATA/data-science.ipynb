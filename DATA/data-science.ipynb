{
 "cells": [
  {
   "cell_type": "code",
   "execution_count": 2,
   "id": "875f1ed1",
   "metadata": {},
   "outputs": [
    {
     "name": "stdout",
     "output_type": "stream",
     "text": [
      "1.25\n"
     ]
    }
   ],
   "source": [
    "import statistics\n",
    "data = vac_nums = [0,0,0,0,0,\n",
    "            1,1,1,1,1,1,1,1,\n",
    "            2,2,2,2,\n",
    "            3,3,3\n",
    "            ]\n",
    "    \n",
    "#your code goes here\n",
    "res= statistics.mean(data)\n",
    "\n",
    "print(res)"
   ]
  },
  {
   "cell_type": "code",
   "execution_count": 7,
   "id": "4a1a5ab8",
   "metadata": {},
   "outputs": [
    {
     "name": "stdout",
     "output_type": "stream",
     "text": [
      "292.5432098765432\n"
     ]
    }
   ],
   "source": [
    "data = [14, 18, 19, 24, 26, 33, 42, 55, 67] \n",
    "x = statistics.pvariance(data, mu=None)\n",
    "print(x)"
   ]
  },
  {
   "cell_type": "code",
   "execution_count": 8,
   "id": "329cf414",
   "metadata": {},
   "outputs": [
    {
     "name": "stdout",
     "output_type": "stream",
     "text": [
      "17.10389458212787\n"
     ]
    }
   ],
   "source": [
    "from math import *\n",
    "print(sqrt(x))"
   ]
  },
  {
   "cell_type": "code",
   "execution_count": 10,
   "id": "f97dd965",
   "metadata": {},
   "outputs": [
    {
     "name": "stdout",
     "output_type": "stream",
     "text": [
      "1\n"
     ]
    }
   ],
   "source": [
    "import numpy as np \n",
    "x = np.array([1, 2, 3, 4]) \n",
    "print(x[0])"
   ]
  },
  {
   "cell_type": "code",
   "execution_count": 11,
   "id": "34af7fb4",
   "metadata": {},
   "outputs": [
    {
     "name": "stdout",
     "output_type": "stream",
     "text": [
      "6\n"
     ]
    }
   ],
   "source": [
    "x = np.array([[1, 2, 3], [4, 5, 6], [7, 8, 9]])\n",
    " \n",
    "print(x[1][2])"
   ]
  },
  {
   "cell_type": "code",
   "execution_count": 12,
   "id": "19cb7609",
   "metadata": {},
   "outputs": [
    {
     "name": "stdout",
     "output_type": "stream",
     "text": [
      "2\n",
      "9\n",
      "(3, 3)\n"
     ]
    }
   ],
   "source": [
    "x = np.array([[1, 2, 3], [4, 5, 6], [7, 8, 9]]) \n",
    "print(x.ndim) # 2\n",
    "print(x.size) # 9\n",
    "print(x.shape) # (3, 3)"
   ]
  },
  {
   "cell_type": "code",
   "execution_count": 14,
   "id": "33ea3e5a",
   "metadata": {},
   "outputs": [
    {
     "name": "stdout",
     "output_type": "stream",
     "text": [
      "[1 2 3 4 5]\n",
      "[1 2 3 4 5 4]\n",
      "[2 3 4 5]\n",
      "[1 2 3 4 5]\n"
     ]
    }
   ],
   "source": [
    "x = np.array([1, 2, 3,4,5])\n",
    "y = np.append(x,4)\n",
    "z = np.delete(x,0)\n",
    "j = np.sort(x)\n",
    "print(x)\n",
    "print(y)\n",
    "print(z)\n",
    "print(j)"
   ]
  },
  {
   "cell_type": "code",
   "execution_count": 15,
   "id": "9011eff9",
   "metadata": {},
   "outputs": [
    {
     "name": "stdout",
     "output_type": "stream",
     "text": [
      "[2 5 8]\n"
     ]
    }
   ],
   "source": [
    "x = np.arange(2,10,3)\n",
    "print(x)"
   ]
  },
  {
   "cell_type": "code",
   "execution_count": 17,
   "id": "95a64cba",
   "metadata": {},
   "outputs": [
    {
     "name": "stdout",
     "output_type": "stream",
     "text": [
      "[2 4 6]\n",
      "[2 4 6 3]\n",
      "[2 3 4 6]\n",
      "3\n"
     ]
    }
   ],
   "source": [
    "x = np.arange(2, 8, 2)\n",
    "print(x)\n",
    "x = np.append(x, x.size)\n",
    "print(x)\n",
    "x = np.sort(x)\n",
    "print(x)\n",
    "print(x[1])"
   ]
  },
  {
   "cell_type": "code",
   "execution_count": 21,
   "id": "45bc815f",
   "metadata": {},
   "outputs": [
    {
     "name": "stdout",
     "output_type": "stream",
     "text": [
      "[1 2 3 4 5 6]\n"
     ]
    }
   ],
   "source": [
    "x = np.arange(1,7)\n",
    "print(x)"
   ]
  },
  {
   "cell_type": "code",
   "execution_count": 22,
   "id": "8a7c8bf4",
   "metadata": {},
   "outputs": [
    {
     "name": "stdout",
     "output_type": "stream",
     "text": [
      "[[1 2]\n",
      " [3 4]\n",
      " [5 6]]\n"
     ]
    }
   ],
   "source": [
    "z = x.reshape(3,2)\n",
    "print(z)"
   ]
  },
  {
   "cell_type": "code",
   "execution_count": 23,
   "id": "ccf566de",
   "metadata": {},
   "outputs": [],
   "source": [
    "x = np.array([[1, 2], [4, 5], [7, 8]])"
   ]
  },
  {
   "cell_type": "code",
   "execution_count": 24,
   "id": "c579e0d0",
   "metadata": {},
   "outputs": [
    {
     "name": "stdout",
     "output_type": "stream",
     "text": [
      "[[1 2]\n",
      " [4 5]\n",
      " [7 8]]\n"
     ]
    }
   ],
   "source": [
    "print(x)"
   ]
  },
  {
   "cell_type": "code",
   "execution_count": 25,
   "id": "5f750679",
   "metadata": {},
   "outputs": [
    {
     "name": "stdout",
     "output_type": "stream",
     "text": [
      "[1 2 4 5 7 8]\n"
     ]
    }
   ],
   "source": [
    "z = x.reshape(6)\n",
    "print(z)"
   ]
  },
  {
   "cell_type": "code",
   "execution_count": 26,
   "id": "28687060",
   "metadata": {},
   "outputs": [
    {
     "name": "stdout",
     "output_type": "stream",
     "text": [
      "4\n"
     ]
    }
   ],
   "source": [
    "x = np.arange(1, 8, 3)\n",
    "z = x.reshape(3, 1)\n",
    "print(z[1][0])\n"
   ]
  },
  {
   "cell_type": "code",
   "execution_count": 27,
   "id": "d9c9847b",
   "metadata": {},
   "outputs": [
    {
     "name": "stdout",
     "output_type": "stream",
     "text": [
      "[1 2 3 4 5 6 7 8 9]\n"
     ]
    }
   ],
   "source": [
    "x = np.arange(1,10)\n",
    "print(x)"
   ]
  },
  {
   "cell_type": "code",
   "execution_count": 28,
   "id": "eb6d549d",
   "metadata": {},
   "outputs": [
    {
     "name": "stdout",
     "output_type": "stream",
     "text": [
      "[1 2]\n",
      "[6 7 8 9]\n",
      "[1 2]\n",
      "[7 8 9]\n"
     ]
    }
   ],
   "source": [
    "print(x[0:2])\n",
    "print(x[5:])\n",
    "print(x[:2])\n",
    "print(x[-3:])"
   ]
  },
  {
   "cell_type": "code",
   "execution_count": 29,
   "id": "680fa4bd",
   "metadata": {},
   "outputs": [
    {
     "name": "stdout",
     "output_type": "stream",
     "text": [
      "[1 2 3]\n"
     ]
    }
   ],
   "source": [
    "print(x[x<4])"
   ]
  },
  {
   "cell_type": "code",
   "execution_count": 31,
   "id": "d1a82573",
   "metadata": {},
   "outputs": [
    {
     "name": "stdout",
     "output_type": "stream",
     "text": [
      "[6 8]\n"
     ]
    }
   ],
   "source": [
    "print(x[(x>5) & ( x%2==0)])"
   ]
  },
  {
   "cell_type": "code",
   "execution_count": 32,
   "id": "0b743f70",
   "metadata": {},
   "outputs": [
    {
     "name": "stdout",
     "output_type": "stream",
     "text": [
      "45\n"
     ]
    }
   ],
   "source": [
    "x = np.arange(1,10)\n",
    "print(x.sum())"
   ]
  },
  {
   "cell_type": "code",
   "execution_count": 33,
   "id": "8019d9c2",
   "metadata": {},
   "outputs": [
    {
     "name": "stdout",
     "output_type": "stream",
     "text": [
      "[ 2  4  6  8 10 12 14 16 18]\n"
     ]
    }
   ],
   "source": [
    "y = x*2\n",
    "print(y)"
   ]
  },
  {
   "cell_type": "code",
   "execution_count": 34,
   "id": "85c93f26",
   "metadata": {},
   "outputs": [
    {
     "name": "stdout",
     "output_type": "stream",
     "text": [
      "33.111111111111114\n",
      "26.0\n",
      "292.5432098765432\n",
      "17.10389458212787\n"
     ]
    }
   ],
   "source": [
    "x = np.array([14,18,19,24,26,33,42,55,67])\n",
    "print(np.mean(x))\n",
    "print(np.median(x))\n",
    "print(np.var(x))\n",
    "print(np.std(x))"
   ]
  },
  {
   "cell_type": "code",
   "execution_count": 35,
   "id": "3b7cc71a",
   "metadata": {},
   "outputs": [
    {
     "name": "stdout",
     "output_type": "stream",
     "text": [
      "7\n"
     ]
    }
   ],
   "source": [
    "x = np.arange(3, 9)\n",
    "z = x.reshape(2, 3)\n",
    "print(z[1][1])"
   ]
  },
  {
   "cell_type": "code",
   "execution_count": 36,
   "id": "d8b57d54",
   "metadata": {},
   "outputs": [
    {
     "name": "stdout",
     "output_type": "stream",
     "text": [
      "12\n"
     ]
    }
   ],
   "source": [
    "x = np.arange(1, 5)\n",
    "x = x*2\n",
    "print(x[:3].sum())"
   ]
  },
  {
   "cell_type": "code",
   "execution_count": 37,
   "id": "28c3bbc5",
   "metadata": {},
   "outputs": [
    {
     "name": "stdout",
     "output_type": "stream",
     "text": [
      "260312.5\n"
     ]
    }
   ],
   "source": [
    "import numpy as np\n",
    "\n",
    "data = np.array([150000, 125000, 320000, 540000, 200000, 120000, 160000, 230000, 280000, 290000, 300000, 500000, 420000, 100000, 150000, 280000])\n",
    "print(np.mean(data))"
   ]
  },
  {
   "cell_type": "code",
   "execution_count": 39,
   "id": "0dccc62a",
   "metadata": {},
   "outputs": [
    {
     "name": "stdout",
     "output_type": "stream",
     "text": [
      "130053.69984644804\n"
     ]
    }
   ],
   "source": [
    "print(np.std(data))"
   ]
  },
  {
   "cell_type": "code",
   "execution_count": 40,
   "id": "084d5e24",
   "metadata": {},
   "outputs": [
    {
     "name": "stdout",
     "output_type": "stream",
     "text": [
      "   ages  heights\n",
      "0    14      165\n",
      "1    18      180\n",
      "2    24      176\n",
      "3    42      184\n"
     ]
    }
   ],
   "source": [
    "import pandas as pd \n",
    "data = {\n",
    "   'ages': [14, 18, 24, 42],\n",
    "   'heights': [165, 180, 176, 184]\n",
    "} \n",
    "df = pd.DataFrame(data)\n",
    "print(df)"
   ]
  },
  {
   "cell_type": "code",
   "execution_count": 41,
   "id": "95ee220e",
   "metadata": {},
   "outputs": [],
   "source": [
    "x = {\n",
    "'a': [1, 2],\n",
    "'b': [3, 4],\n",
    "'c': [5, 6]\n",
    "}\n",
    "df = pd.DataFrame(x)"
   ]
  },
  {
   "cell_type": "code",
   "execution_count": 42,
   "id": "b6111506",
   "metadata": {},
   "outputs": [
    {
     "name": "stdout",
     "output_type": "stream",
     "text": [
      "   a  b  c\n",
      "0  1  3  5\n",
      "1  2  4  6\n"
     ]
    }
   ],
   "source": [
    "print(df)"
   ]
  },
  {
   "cell_type": "code",
   "execution_count": null,
   "id": "c436e2ee",
   "metadata": {},
   "outputs": [],
   "source": []
  }
 ],
 "metadata": {
  "kernelspec": {
   "display_name": "Python 3",
   "language": "python",
   "name": "python3"
  },
  "language_info": {
   "codemirror_mode": {
    "name": "ipython",
    "version": 3
   },
   "file_extension": ".py",
   "mimetype": "text/x-python",
   "name": "python",
   "nbconvert_exporter": "python",
   "pygments_lexer": "ipython3",
   "version": "3.8.8"
  }
 },
 "nbformat": 4,
 "nbformat_minor": 5
}
