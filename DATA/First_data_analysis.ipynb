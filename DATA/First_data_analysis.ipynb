{
 "cells": [
  {
   "cell_type": "code",
   "execution_count": 5,
   "id": "b01ff580",
   "metadata": {
    "scrolled": true
   },
   "outputs": [
    {
     "data": {
      "text/plain": [
       "4"
      ]
     },
     "execution_count": 5,
     "metadata": {},
     "output_type": "execute_result"
    }
   ],
   "source": [
    "2+2\n"
   ]
  },
  {
   "cell_type": "code",
   "execution_count": 3,
   "id": "e278294d",
   "metadata": {},
   "outputs": [],
   "source": [
    "import pandas as pd\n",
    "import numpy as np"
   ]
  },
  {
   "cell_type": "code",
   "execution_count": 3,
   "id": "51b14c1e",
   "metadata": {},
   "outputs": [
    {
     "name": "stdout",
     "output_type": "stream",
     "text": [
      "   col1  col2\n",
      "0     1     4\n",
      "1     2     5\n",
      "2     3     6\n",
      "3     4     8\n",
      "4     7     9\n"
     ]
    }
   ],
   "source": [
    "d = {'col1':[1,2,3,4,7],'col2' : [4,5,6,8,9]}\n",
    "df = pd.DataFrame(data = d)\n",
    "print(df)"
   ]
  },
  {
   "cell_type": "code",
   "execution_count": 7,
   "id": "7852e800",
   "metadata": {},
   "outputs": [
    {
     "name": "stdout",
     "output_type": "stream",
     "text": [
      "    Name       \"Sex\"   \"Age\"   \"Height (in)\"   \"Weight (lbs)\"\n",
      "0   Alex         \"M\"      41              74              170\n",
      "1   Bert         \"M\"      42              68              166\n",
      "2   Carl         \"M\"      32              70              155\n",
      "3   Dave         \"M\"      39              72              167\n",
      "4   Elly         \"F\"      30              66              124\n",
      "5   Fran         \"F\"      33              66              115\n",
      "6   Gwen         \"F\"      26              64              121\n",
      "7   Hank         \"M\"      30              71              158\n",
      "8   Ivan         \"M\"      53              72              175\n",
      "9   Jake         \"M\"      32              69              143\n",
      "10  Kate         \"F\"      47              69              139\n",
      "11  Luke         \"M\"      34              72              163\n",
      "12  Myra         \"F\"      23              62               98\n",
      "13  Neil         \"M\"      36              75              160\n",
      "14  Omar         \"M\"      38              70              145\n",
      "15  Page         \"F\"      31              67              135\n",
      "16  Quin         \"M\"      29              71              176\n",
      "17  Ruth         \"F\"      28              65              131\n"
     ]
    }
   ],
   "source": [
    "health_data = pd.read_csv(r'biostats.csv')\n",
    "print(health_data)"
   ]
  },
  {
   "cell_type": "code",
   "execution_count": 8,
   "id": "1cd02097",
   "metadata": {},
   "outputs": [
    {
     "name": "stdout",
     "output_type": "stream",
     "text": [
      "   Name       \"Sex\"   \"Age\"   \"Height (in)\"   \"Weight (lbs)\"\n",
      "0  Alex         \"M\"      41              74              170\n",
      "1  Bert         \"M\"      42              68              166\n",
      "2  Carl         \"M\"      32              70              155\n",
      "3  Dave         \"M\"      39              72              167\n",
      "4  Elly         \"F\"      30              66              124\n"
     ]
    }
   ],
   "source": [
    "data = health_data.head()\n",
    "print(data)"
   ]
  },
  {
   "cell_type": "code",
   "execution_count": 9,
   "id": "34779a01",
   "metadata": {},
   "outputs": [
    {
     "name": "stdout",
     "output_type": "stream",
     "text": [
      "<class 'pandas.core.frame.DataFrame'>\n",
      "RangeIndex: 18 entries, 0 to 17\n",
      "Data columns (total 5 columns):\n",
      " #   Column           Non-Null Count  Dtype \n",
      "---  ------           --------------  ----- \n",
      " 0   Name             18 non-null     object\n",
      " 1        \"Sex\"       18 non-null     object\n",
      " 2    \"Age\"           18 non-null     int64 \n",
      " 3    \"Height (in)\"   18 non-null     int64 \n",
      " 4    \"Weight (lbs)\"  18 non-null     int64 \n",
      "dtypes: int64(3), object(2)\n",
      "memory usage: 848.0+ bytes\n",
      "None\n"
     ]
    }
   ],
   "source": [
    "print(health_data.info())\n"
   ]
  },
  {
   "cell_type": "code",
   "execution_count": 13,
   "id": "bf41e857",
   "metadata": {},
   "outputs": [
    {
     "name": "stdout",
     "output_type": "stream",
     "text": [
      "           \"Age\"   \"Height (in)\"   \"Weight (lbs)\"\n",
      "count  18.000000       18.000000        18.000000\n",
      "mean   34.666667       69.055556       146.722222\n",
      "std     7.577055        3.522570        22.540958\n",
      "min    23.000000       62.000000        98.000000\n",
      "25%    30.000000       66.250000       132.000000\n",
      "50%    32.500000       69.500000       150.000000\n",
      "75%    38.750000       71.750000       165.250000\n",
      "max    53.000000       75.000000       176.000000\n"
     ]
    }
   ],
   "source": [
    "print(health_data.describe())"
   ]
  },
  {
   "cell_type": "code",
   "execution_count": 14,
   "id": "e1adb5a1",
   "metadata": {},
   "outputs": [
    {
     "name": "stdout",
     "output_type": "stream",
     "text": [
      " \"Age\"              7.363574\n",
      " \"Height (in)\"      3.423322\n",
      " \"Weight (lbs)\"    21.905873\n",
      "dtype: float64\n"
     ]
    }
   ],
   "source": [
    "std = np.std(health_data)\n",
    "print(std)"
   ]
  },
  {
   "cell_type": "code",
   "execution_count": 15,
   "id": "a738e7d5",
   "metadata": {},
   "outputs": [
    {
     "name": "stdout",
     "output_type": "stream",
     "text": [
      " \"Age\"             0.212411\n",
      " \"Height (in)\"     0.049573\n",
      " \"Weight (lbs)\"    0.149302\n",
      "dtype: float64\n"
     ]
    }
   ],
   "source": [
    "cv = std/np.mean(health_data)\n",
    "print(cv)"
   ]
  },
  {
   "cell_type": "code",
   "execution_count": 16,
   "id": "bea3cde8",
   "metadata": {},
   "outputs": [
    {
     "name": "stdout",
     "output_type": "stream",
     "text": [
      " \"Age\"              54.222222\n",
      " \"Height (in)\"      11.719136\n",
      " \"Weight (lbs)\"    479.867284\n",
      "dtype: float64\n"
     ]
    }
   ],
   "source": [
    "var = np.var(health_data)\n",
    "print(var)"
   ]
  },
  {
   "cell_type": "code",
   "execution_count": 25,
   "id": "4c23e4de",
   "metadata": {},
   "outputs": [
    {
     "ename": "AttributeError",
     "evalue": "'DataFrame' object has no attribute 'plt'",
     "output_type": "error",
     "traceback": [
      "\u001b[0;31m---------------------------------------------------------------------------\u001b[0m",
      "\u001b[0;31mAttributeError\u001b[0m                            Traceback (most recent call last)",
      "\u001b[0;32m<ipython-input-25-fc549f434f9e>\u001b[0m in \u001b[0;36m<module>\u001b[0;34m\u001b[0m\n\u001b[1;32m      1\u001b[0m \u001b[0;32mimport\u001b[0m \u001b[0mmatplotlib\u001b[0m\u001b[0;34m.\u001b[0m\u001b[0mpyplot\u001b[0m \u001b[0;32mas\u001b[0m \u001b[0mplt\u001b[0m\u001b[0;34m\u001b[0m\u001b[0;34m\u001b[0m\u001b[0m\n\u001b[1;32m      2\u001b[0m \u001b[0;34m\u001b[0m\u001b[0m\n\u001b[0;32m----> 3\u001b[0;31m \u001b[0mhealth_data\u001b[0m\u001b[0;34m.\u001b[0m\u001b[0mplt\u001b[0m\u001b[0;34m.\u001b[0m\u001b[0mshow\u001b[0m\u001b[0;34m(\u001b[0m\u001b[0;34m)\u001b[0m\u001b[0;34m\u001b[0m\u001b[0;34m\u001b[0m\u001b[0m\n\u001b[0m",
      "\u001b[0;32m/opt/anaconda3/lib/python3.8/site-packages/pandas/core/generic.py\u001b[0m in \u001b[0;36m__getattr__\u001b[0;34m(self, name)\u001b[0m\n\u001b[1;32m   5463\u001b[0m             \u001b[0;32mif\u001b[0m \u001b[0mself\u001b[0m\u001b[0;34m.\u001b[0m\u001b[0m_info_axis\u001b[0m\u001b[0;34m.\u001b[0m\u001b[0m_can_hold_identifiers_and_holds_name\u001b[0m\u001b[0;34m(\u001b[0m\u001b[0mname\u001b[0m\u001b[0;34m)\u001b[0m\u001b[0;34m:\u001b[0m\u001b[0;34m\u001b[0m\u001b[0;34m\u001b[0m\u001b[0m\n\u001b[1;32m   5464\u001b[0m                 \u001b[0;32mreturn\u001b[0m \u001b[0mself\u001b[0m\u001b[0;34m[\u001b[0m\u001b[0mname\u001b[0m\u001b[0;34m]\u001b[0m\u001b[0;34m\u001b[0m\u001b[0;34m\u001b[0m\u001b[0m\n\u001b[0;32m-> 5465\u001b[0;31m             \u001b[0;32mreturn\u001b[0m \u001b[0mobject\u001b[0m\u001b[0;34m.\u001b[0m\u001b[0m__getattribute__\u001b[0m\u001b[0;34m(\u001b[0m\u001b[0mself\u001b[0m\u001b[0;34m,\u001b[0m \u001b[0mname\u001b[0m\u001b[0;34m)\u001b[0m\u001b[0;34m\u001b[0m\u001b[0;34m\u001b[0m\u001b[0m\n\u001b[0m\u001b[1;32m   5466\u001b[0m \u001b[0;34m\u001b[0m\u001b[0m\n\u001b[1;32m   5467\u001b[0m     \u001b[0;32mdef\u001b[0m \u001b[0m__setattr__\u001b[0m\u001b[0;34m(\u001b[0m\u001b[0mself\u001b[0m\u001b[0;34m,\u001b[0m \u001b[0mname\u001b[0m\u001b[0;34m:\u001b[0m \u001b[0mstr\u001b[0m\u001b[0;34m,\u001b[0m \u001b[0mvalue\u001b[0m\u001b[0;34m)\u001b[0m \u001b[0;34m->\u001b[0m \u001b[0;32mNone\u001b[0m\u001b[0;34m:\u001b[0m\u001b[0;34m\u001b[0m\u001b[0;34m\u001b[0m\u001b[0m\n",
      "\u001b[0;31mAttributeError\u001b[0m: 'DataFrame' object has no attribute 'plt'"
     ]
    }
   ],
   "source": [
    "import matplotlib.pyplot as plt\n",
    "\n",
    "plt.show()\n"
   ]
  },
  {
   "cell_type": "code",
   "execution_count": null,
   "id": "e561351e",
   "metadata": {},
   "outputs": [],
   "source": []
  }
 ],
 "metadata": {
  "kernelspec": {
   "display_name": "Python 3",
   "language": "python",
   "name": "python3"
  },
  "language_info": {
   "codemirror_mode": {
    "name": "ipython",
    "version": 3
   },
   "file_extension": ".py",
   "mimetype": "text/x-python",
   "name": "python",
   "nbconvert_exporter": "python",
   "pygments_lexer": "ipython3",
   "version": "3.8.8"
  }
 },
 "nbformat": 4,
 "nbformat_minor": 5
}
